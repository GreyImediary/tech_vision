{
 "cells": [
  {
   "cell_type": "code",
   "execution_count": 59,
   "outputs": [],
   "source": [
    "import numpy as np\n",
    "import matplotlib.pyplot as plt\n",
    "from skimage import io, util, filters, metrics\n",
    "import cv2\n",
    "from prettytable import PrettyTable"
   ],
   "metadata": {
    "collapsed": false,
    "pycharm": {
     "name": "#%%\n"
    }
   }
  },
  {
   "cell_type": "code",
   "execution_count": 60,
   "outputs": [],
   "source": [
    "freq= 0.00366772681 * 100\n",
    "phase=0"
   ],
   "metadata": {
    "collapsed": false,
    "pycharm": {
     "name": "#%%\n"
    }
   }
  },
  {
   "cell_type": "code",
   "execution_count": 61,
   "outputs": [
    {
     "name": "stdout",
     "output_type": "stream",
     "text": [
      "[0.366772681, 0.1833863405, 0.09169317025, 0.045846585125, 0.0229232925625, 0.01146164628125]\n"
     ]
    }
   ],
   "source": [
    "freqs = [freq]\n",
    "\n",
    "fr_temp = freq\n",
    "count = 5\n",
    "while count > 0:\n",
    "    fr_temp = fr_temp / 2\n",
    "    freqs.append(fr_temp)\n",
    "    count -= 1\n",
    "\n",
    "print(freqs)"
   ],
   "metadata": {
    "collapsed": false,
    "pycharm": {
     "name": "#%%\n"
    }
   }
  },
  {
   "cell_type": "code",
   "execution_count": 62,
   "outputs": [],
   "source": [
    "def function(x, frequency, ph): # функция синуса\n",
    "    return(0.5*np.sin(x*frequency+ph)+0.5)\n",
    "\n",
    "def function_dis(freq): # функция дискретизации\n",
    "    out=np.array([])\n",
    "    for i in np.arange(0,freq*3000,freq):\n",
    "        out=np.append(out,function(i, freq, 0))\n",
    "        # print(i)\n",
    "    return out\n",
    "\n",
    "def draw(frequency, phase):# вывод графика функции\n",
    "    x=np.arange(0,frequency*3000,frequency)\n",
    "    plt.plot(x,function(x, frequency, phase))\n",
    "    # plt.xlim(0,300)\n",
    "    plt.ylim(0,1)\n",
    "    plt.show()"
   ],
   "metadata": {
    "collapsed": false,
    "pycharm": {
     "name": "#%%\n"
    }
   }
  },
  {
   "cell_type": "code",
   "execution_count": 63,
   "outputs": [],
   "source": [
    "# Преобразование дискретных значений в изображение\n",
    "def image(row):\n",
    "    row = np.around(255 * row)\n",
    "    image = np.full((row.size, row.size), row)\n",
    "    return image"
   ],
   "metadata": {
    "collapsed": false,
    "pycharm": {
     "name": "#%%\n"
    }
   }
  },
  {
   "cell_type": "code",
   "execution_count": 64,
   "outputs": [],
   "source": [
    "# Изменение размера - интерполяция методом ближайшего соседа\n",
    "def interpolation(img, size):\n",
    "    out = cv2.resize(img, size, cv2.INTER_NEAREST)\n",
    "    return out"
   ],
   "metadata": {
    "collapsed": false,
    "pycharm": {
     "name": "#%%\n"
    }
   }
  },
  {
   "cell_type": "code",
   "execution_count": 71,
   "outputs": [
    {
     "data": {
      "text/plain": "<Figure size 432x288 with 0 Axes>"
     },
     "metadata": {},
     "output_type": "display_data"
    },
    {
     "data": {
      "text/plain": "<Figure size 1296x1008 with 6 Axes>",
      "image/png": "[encoded data removed]"
     },
     "metadata": {
      "needs_background": "light"
     },
     "output_type": "display_data"
    },
    {
     "name": "stdout",
     "output_type": "stream",
     "text": [
      "[[ True False False ... False False False]\n",
      " [ True False False ... False False False]\n",
      " [ True False False ... False False False]\n",
      " ...\n",
      " [ True False False ... False False False]\n",
      " [ True False False ... False False False]\n",
      " [ True False False ... False False False]]\n"
     ]
    }
   ],
   "source": [
    "fig = plt.figure()\n",
    "\n",
    "fig, axs = plt.subplots(\n",
    "    nrows=1, ncols=6,\n",
    "    figsize=(18, 14)\n",
    ")\n",
    "\n",
    "imgs = []\n",
    "\n",
    "for freq_index in range(len(freqs)):\n",
    "    img = image(function_dis(freqs[freq_index]))\n",
    "    axs[freq_index].set_title(freq_index + 1)\n",
    "    axs[freq_index].imshow(img, cmap=\"gray\")\n",
    "    imgs.append(img)\n",
    "\n",
    "plt.show()\n"
   ],
   "metadata": {
    "collapsed": false,
    "pycharm": {
     "name": "#%%\n"
    }
   }
  },
  {
   "cell_type": "code",
   "execution_count": 77,
   "outputs": [
    {
     "data": {
      "text/plain": "<Figure size 432x288 with 0 Axes>"
     },
     "metadata": {},
     "output_type": "display_data"
    },
    {
     "data": {
      "text/plain": "<Figure size 1296x1008 with 6 Axes>",
      "image/png": "[encoded data removed]"
     },
     "metadata": {
      "needs_background": "light"
     },
     "output_type": "display_data"
    }
   ],
   "source": [
    "interpolated_imgs = []\n",
    "\n",
    "\n",
    "fig = plt.figure()\n",
    "\n",
    "fig, axs = plt.subplots(\n",
    "    nrows=1, ncols=6,\n",
    "    figsize=(18, 14)\n",
    ")\n",
    "\n",
    "for img_index in range(len(imgs)):\n",
    "    img_interpolated = interpolation(imgs[img_index], imgs[img_index].shape)\n",
    "    axs[img_index].set_title(img_index + 1)\n",
    "    axs[img_index].imshow(img_interpolated, cmap=\"gray\")\n",
    "    interpolated_imgs.append(img_interpolated)\n",
    "\n",
    "plt.show()\n",
    "\n"
   ],
   "metadata": {
    "collapsed": false,
    "pycharm": {
     "name": "#%%\n"
    }
   }
  },
  {
   "cell_type": "code",
   "execution_count": 78,
   "outputs": [
    {
     "name": "stderr",
     "output_type": "stream",
     "text": [
      "d:\\python\\tech_vision\\venv\\lib\\site-packages\\skimage\\metrics\\simple_metrics.py:163: RuntimeWarning: divide by zero encountered in double_scalars\n",
      "  return 10 * np.log10((data_range ** 2) / err)\n",
      "C:\\Users\\serku\\AppData\\Local\\Temp\\ipykernel_15752\\2740060145.py:8: FutureWarning: `multichannel` is a deprecated argument name for `structural_similarity`. It will be removed in version 1.0. Please use `channel_axis` instead.\n",
      "  ssim = round(metrics.structural_similarity(imgs[0], interpolated_imgs[i], multichannel=True), 3)\n"
     ]
    },
    {
     "name": "stdout",
     "output_type": "stream",
     "text": [
      "+---+-------------+--------+-------+-------+\n",
      "| № | Изображение |  MSE   |  PSNR |  SSIM |\n",
      "+---+-------------+--------+-------+-------+\n",
      "| 1 |       1     |  0.0   |  inf  |  1.0  |\n",
      "| 2 |       2     | 63.58  | 6.032 | 0.567 |\n",
      "| 3 |       3     | 63.613 |  6.03 | 0.561 |\n",
      "| 4 |       4     | 63.621 | 6.029 | 0.562 |\n",
      "| 5 |       5     | 63.893 | 6.011 | 0.676 |\n",
      "| 6 |       6     | 35.078 | 8.615 | 0.706 |\n",
      "+---+-------------+--------+-------+-------+\n"
     ]
    }
   ],
   "source": [
    "table = PrettyTable()\n",
    "table.field_names = [\"№\", \"Изображение\", \"MSE\", \"PSNR\", \"SSIM\"]\n",
    "\n",
    "for i in range(len(interpolated_imgs)):\n",
    "    #Расчет показателей\n",
    "    mse = round(metrics.mean_squared_error(imgs[0], interpolated_imgs[i]) / 255, 3)\n",
    "    psnr = round(metrics.peak_signal_noise_ratio(imgs[0], interpolated_imgs[i], data_range=255), 3)\n",
    "    ssim = round(metrics.structural_similarity(imgs[0], interpolated_imgs[i], multichannel=True), 3)\n",
    "\n",
    "    temp = []   #строка таблицы\n",
    "    temp.append(i+1)\n",
    "    temp.append(\" \" + str(i+1))\n",
    "    temp.extend((mse, psnr, ssim))\n",
    "    table.add_row(temp)\n",
    "\n",
    "print(table)"
   ],
   "metadata": {
    "collapsed": false,
    "pycharm": {
     "name": "#%%\n"
    }
   }
  }
 ],
 "metadata": {
  "kernelspec": {
   "display_name": "Python 3",
   "language": "python",
   "name": "python3"
  },
  "language_info": {
   "codemirror_mode": {
    "name": "ipython",
    "version": 2
   },
   "file_extension": ".py",
   "mimetype": "text/x-python",
   "name": "python",
   "nbconvert_exporter": "python",
   "pygments_lexer": "ipython2",
   "version": "2.7.6"
  }
 },
 "nbformat": 4,
 "nbformat_minor": 0
}